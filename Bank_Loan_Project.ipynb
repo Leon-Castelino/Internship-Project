{
  "nbformat": 4,
  "nbformat_minor": 0,
  "metadata": {
    "colab": {
      "name": "Bank_Loan_Project.ipynb",
      "provenance": [],
      "collapsed_sections": [],
      "authorship_tag": "ABX9TyMK4emBQKEX5doInviWOUgX",
      "include_colab_link": true
    },
    "kernelspec": {
      "name": "python3",
      "display_name": "Python 3"
    }
  },
  "cells": [
    {
      "cell_type": "markdown",
      "metadata": {
        "id": "view-in-github",
        "colab_type": "text"
      },
      "source": [
        "<a href=\"https://colab.research.google.com/github/Leon-Castelino/Internship-Project/blob/master/Bank_Loan_Project.ipynb\" target=\"_parent\"><img src=\"https://colab.research.google.com/assets/colab-badge.svg\" alt=\"Open In Colab\"/></a>"
      ]
    },
    {
      "cell_type": "markdown",
      "metadata": {
        "id": "rApotpaGi2Wo",
        "colab_type": "text"
      },
      "source": [
        "### **Internship Project Title: Marketing Campaign for Banking Products**"
      ]
    },
    {
      "cell_type": "markdown",
      "metadata": {
        "id": "7pg1IGSXj44R",
        "colab_type": "text"
      },
      "source": [
        "**Abstract:**"
      ]
    },
    {
      "cell_type": "markdown",
      "metadata": {
        "id": "Vy8skT7akfis",
        "colab_type": "text"
      },
      "source": [
        "A bank consists of a datafile ***'Bank_Loan.csv'*** which has data of 5000 customers. This bank has a growing customer base and wants to increase its borrowers (asset customers) base to bring in more loan business and earn more through the interest on loans. A campaign that the bank ran last year for liability customers showed that only 480 out of 5000 customers (i.e.9.6%) accepted the personal loan that was offered to them. The bank wants to convert the liability based customers to personal loan customers while retaining them as depositors. \n",
        "\n",
        "The goal of the department is to build a model that will help them identify the potential customers who have a higher probability of purchasing the loan which will eventually increase the success ratio while at the same time reduce the cost of the campaign. \n",
        "\n",
        "The above mentioned datafile includes customer demographic information (age, income etc), customer's relationship with the bank (mortgage, securities account, etc.), and the customer's response to the last personal loan campaign (Personal Loan).\n",
        "\n"
      ]
    },
    {
      "cell_type": "markdown",
      "metadata": {
        "id": "mtas14fyxfZt",
        "colab_type": "text"
      },
      "source": [
        "### **STEP 1**"
      ]
    },
    {
      "cell_type": "markdown",
      "metadata": {
        "id": "qU1lE4WSnoD7",
        "colab_type": "text"
      },
      "source": [
        "**1.1 Importing the Required Datasets and Libraries**"
      ]
    },
    {
      "cell_type": "code",
      "metadata": {
        "id": "CV2wuxbnn8ZI",
        "colab_type": "code",
        "colab": {}
      },
      "source": [
        "#importing all the required libraries\n",
        "import numpy as np\n",
        "import pandas as pd\n",
        "import matplotlib.pyplot as plt\n",
        "import seaborn as sns\n",
        "from sklearn import preprocessing\n",
        "from sklearn.preprocessing import PowerTransformer\n",
        "from sklearn.preprocessing import MinMaxScaler\n",
        "from sklearn.model_selection import train_test_split\n",
        "from sklearn.linear_model import LogisticRegression\n",
        "from sklearn import metrics\n",
        "from sklearn.metrics import confusion_matrix\n",
        "from sklearn import model_selection\n",
        "from sklearn.model_selection import cross_val_score\n",
        "from sklearn.metrics import roc_curve\n",
        "from sklearn.metrics import average_precision_score\n",
        "from sklearn.metrics import precision_recall_curve\n",
        "from sklearn.tree import DecisionTreeClassifier\n",
        "from sklearn.ensemble import RandomForestClassifier\n",
        "from sklearn.neighbors import KNeighborsClassifier\n",
        "\n",
        "#plot outputs will be stored internally\n",
        "%matplotlib inline                 "
      ],
      "execution_count": null,
      "outputs": []
    },
    {
      "cell_type": "code",
      "metadata": {
        "id": "yCo72HqOpiuj",
        "colab_type": "code",
        "colab": {}
      },
      "source": [
        "#uploading the .csv file\n",
        "from google.colab import files\n",
        "uploaded=files.upload()"
      ],
      "execution_count": null,
      "outputs": []
    },
    {
      "cell_type": "code",
      "metadata": {
        "id": "Q_cXc_nCp5u5",
        "colab_type": "code",
        "colab": {}
      },
      "source": [
        "#reading the .csv file\n",
        "import io\n",
        "data=pd.read_csv(io.BytesIO(uploaded['Bank_Loan.csv']))"
      ],
      "execution_count": null,
      "outputs": []
    },
    {
      "cell_type": "code",
      "metadata": {
        "id": "5B97VJzLQXDV",
        "colab_type": "code",
        "colab": {}
      },
      "source": [
        "#checking all column names\n",
        "data.columns"
      ],
      "execution_count": null,
      "outputs": []
    },
    {
      "cell_type": "code",
      "metadata": {
        "id": "xcpms5FFrtJs",
        "colab_type": "code",
        "colab": {}
      },
      "source": [
        "#checking the top 5 elements to ensure the data starts from index 0\n",
        "data.head()"
      ],
      "execution_count": null,
      "outputs": []
    },
    {
      "cell_type": "code",
      "metadata": {
        "id": "9IAh4CGCqueo",
        "colab_type": "code",
        "colab": {}
      },
      "source": [
        "#checking the last 5 elements to confirm 5000 enteries\n",
        "data.tail()"
      ],
      "execution_count": null,
      "outputs": []
    },
    {
      "cell_type": "markdown",
      "metadata": {
        "id": "qyCisqMosaB9",
        "colab_type": "text"
      },
      "source": [
        "**1.2. Checking the DataTypes**"
      ]
    },
    {
      "cell_type": "code",
      "metadata": {
        "id": "qDHTqvydtK8h",
        "colab_type": "code",
        "colab": {}
      },
      "source": [
        "#displaying datatype of each column and non-null rows for each column\n",
        "data.info()"
      ],
      "execution_count": null,
      "outputs": []
    },
    {
      "cell_type": "markdown",
      "metadata": {
        "id": "pV1GZDLBtkdF",
        "colab_type": "text"
      },
      "source": [
        "**1.3 Checking the Summary stats**"
      ]
    },
    {
      "cell_type": "code",
      "metadata": {
        "id": "-uNT-hyAtu-J",
        "colab_type": "code",
        "colab": {}
      },
      "source": [
        "#displaying the summary stats i.e. mean, standard deviation, count etc\n",
        "data.describe()"
      ],
      "execution_count": null,
      "outputs": []
    },
    {
      "cell_type": "markdown",
      "metadata": {
        "id": "G13s5Em9u5X-",
        "colab_type": "text"
      },
      "source": [
        "**1.4 Checking Null Values**"
      ]
    },
    {
      "cell_type": "code",
      "metadata": {
        "id": "o5XkqS-cvCrX",
        "colab_type": "code",
        "colab": {}
      },
      "source": [
        "#display number of null values present in each row\n",
        "data.isnull().sum()   "
      ],
      "execution_count": null,
      "outputs": []
    },
    {
      "cell_type": "markdown",
      "metadata": {
        "id": "s7gFCXZjvUIG",
        "colab_type": "text"
      },
      "source": [
        "**1.5 Checking the Shape of the DataFrame**"
      ]
    },
    {
      "cell_type": "code",
      "metadata": {
        "id": "CYJNi9FGvgF0",
        "colab_type": "code",
        "colab": {}
      },
      "source": [
        "#displaying number of rows and columns\n",
        "data.shape"
      ],
      "execution_count": null,
      "outputs": []
    },
    {
      "cell_type": "markdown",
      "metadata": {
        "id": "Rdg7dgQxxr9f",
        "colab_type": "text"
      },
      "source": [
        "### **STEP 2**"
      ]
    },
    {
      "cell_type": "markdown",
      "metadata": {
        "id": "MYtUbbiPwuKj",
        "colab_type": "text"
      },
      "source": [
        "**2. Preprocessing the Data**"
      ]
    },
    {
      "cell_type": "code",
      "metadata": {
        "id": "aDua_3KP1IPj",
        "colab_type": "code",
        "colab": {}
      },
      "source": [
        "#checking all the rows for negative values\n",
        "data.lt(0).sum()"
      ],
      "execution_count": null,
      "outputs": []
    },
    {
      "cell_type": "markdown",
      "metadata": {
        "id": "G5BdAFQgXGZp",
        "colab_type": "text"
      },
      "source": [
        "Only 'Experience' column consists of negative values in the entire dataset."
      ]
    },
    {
      "cell_type": "code",
      "metadata": {
        "id": "XqTn_G1nZvJY",
        "colab_type": "code",
        "colab": {}
      },
      "source": [
        "#replacing negative values with np.nan\n",
        "data.loc[~(data['Experience']>0), 'Experience']=np.nan"
      ],
      "execution_count": null,
      "outputs": []
    },
    {
      "cell_type": "code",
      "metadata": {
        "id": "U4L7Y8gxaIQJ",
        "colab_type": "code",
        "colab": {}
      },
      "source": [
        "#replacing np.nan values with median\n",
        "data['Experience'].fillna(data['Experience'].median())"
      ],
      "execution_count": null,
      "outputs": []
    },
    {
      "cell_type": "code",
      "metadata": {
        "id": "Qa7OcsCFwglg",
        "colab_type": "code",
        "colab": {}
      },
      "source": [
        "#displaying the summary stats i.e. mean, standard deviation, count etc\n",
        "data.describe()"
      ],
      "execution_count": null,
      "outputs": []
    },
    {
      "cell_type": "markdown",
      "metadata": {
        "id": "gkRFTRTaA5zn",
        "colab_type": "text"
      },
      "source": [
        "Since our main motive is to predict the likelihood of a customer buying personal loans using Logistic Regression model, it is necessary to avoid multicollinearity as more weightage would be given to highly correlated data.\n",
        "\n",
        "Here, we see that 'ID' and 'Experience' columns will not play a major role of a customer buying personal loans and also a prediction can be made that 'Age' and 'Experience' columns might be correlated.\n",
        "\n",
        "By using scatter plots and .corr() function we can find out the correlation between 'Age' and 'Experience'."
      ]
    },
    {
      "cell_type": "code",
      "metadata": {
        "id": "JA4a_x3gMhGY",
        "colab_type": "code",
        "colab": {}
      },
      "source": [
        "#using scatter plots to check linearity between 'Age' and 'Experience'\n",
        "x=data['Age']\n",
        "y=data['Experience']\n",
        "plt.scatter(x,y,s=10,color='green')\n",
        "plt.xlabel('Age')\n",
        "plt.ylabel('Experience')\n",
        "plt.show"
      ],
      "execution_count": null,
      "outputs": []
    },
    {
      "cell_type": "code",
      "metadata": {
        "id": "sYPKr4QFPs8E",
        "colab_type": "code",
        "colab": {}
      },
      "source": [
        "#depicting correlation between 'Age' and 'Experience'\n",
        "exp=data['Experience']\n",
        "age=data['Age']\n",
        "correlation=exp.corr(age)\n",
        "correlation"
      ],
      "execution_count": null,
      "outputs": []
    },
    {
      "cell_type": "markdown",
      "metadata": {
        "id": "Ios2v1bAW3pg",
        "colab_type": "text"
      },
      "source": [
        "Here, we can see that 'Age' and 'Experience' columns are correlated and either one of them can be dropped along with 'ID' to avoid multicollinearity."
      ]
    },
    {
      "cell_type": "code",
      "metadata": {
        "id": "gXUSTrWFRcsf",
        "colab_type": "code",
        "colab": {}
      },
      "source": [
        "#dropping irrelevant columns\n",
        "data=data.drop(['ID','Experience'],axis=1)\n",
        "data.head()"
      ],
      "execution_count": null,
      "outputs": []
    },
    {
      "cell_type": "markdown",
      "metadata": {
        "id": "RXRvaZyVWUaM",
        "colab_type": "text"
      },
      "source": [
        "### **STEP 3**"
      ]
    },
    {
      "cell_type": "markdown",
      "metadata": {
        "id": "CIa6wbIMqGI5",
        "colab_type": "text"
      },
      "source": [
        "**3. Exploratory Data Analysis (EDA)**"
      ]
    },
    {
      "cell_type": "markdown",
      "metadata": {
        "id": "nc2Cmj7aqPTE",
        "colab_type": "text"
      },
      "source": [
        "**3.1 Unique Values**"
      ]
    },
    {
      "cell_type": "code",
      "metadata": {
        "id": "zELdskI0qqJB",
        "colab_type": "code",
        "colab": {}
      },
      "source": [
        "#displaying number of unique values in each row\n",
        "data.nunique()"
      ],
      "execution_count": null,
      "outputs": []
    },
    {
      "cell_type": "markdown",
      "metadata": {
        "id": "9XMRQDX18H68",
        "colab_type": "text"
      },
      "source": [
        "We saw that 'ZIP Code' column has 467 Unique Values which is quite huge. Since ZIP Code is a nominal - categorical variable, we can create dummy variables using One Hot Encoding Method, but the problem of multicollinearity arises. Hence we drop 'ZIP Code' column."
      ]
    },
    {
      "cell_type": "code",
      "metadata": {
        "id": "bI2f4wMc9ukl",
        "colab_type": "code",
        "colab": {}
      },
      "source": [
        "#dropping 'ZIP Code' column\n",
        "data=data.drop(['ZIP Code'], axis=1)\n",
        "data.head()"
      ],
      "execution_count": null,
      "outputs": []
    },
    {
      "cell_type": "markdown",
      "metadata": {
        "id": "NVeLArRn-__p",
        "colab_type": "text"
      },
      "source": [
        "**3.2 People with Zero Mortgage**"
      ]
    },
    {
      "cell_type": "code",
      "metadata": {
        "id": "B8odq2g2_IA7",
        "colab_type": "code",
        "colab": {}
      },
      "source": [
        "#displaying total number of people with zero mortgage\n",
        "(data.Mortgage==0).sum()"
      ],
      "execution_count": null,
      "outputs": []
    },
    {
      "cell_type": "markdown",
      "metadata": {
        "id": "Ul5WLmNr_-nF",
        "colab_type": "text"
      },
      "source": [
        "**3.3 People with Zero CC per month**"
      ]
    },
    {
      "cell_type": "code",
      "metadata": {
        "id": "UIKqXltqAHdH",
        "colab_type": "code",
        "colab": {}
      },
      "source": [
        "#displaying total number of people with zero credit card spending per month\n",
        "(data.CCAvg==0).sum()"
      ],
      "execution_count": null,
      "outputs": []
    },
    {
      "cell_type": "markdown",
      "metadata": {
        "id": "iscUrgT2CrsG",
        "colab_type": "text"
      },
      "source": [
        "**3.4 Value Counts of Categorical Values**"
      ]
    },
    {
      "cell_type": "markdown",
      "metadata": {
        "id": "3MwVx9m2au2C",
        "colab_type": "text"
      },
      "source": [
        "Except 'Id', 'Income', 'CCAvg' and 'Mortgage' columns, rest all columns are categorical in nature."
      ]
    },
    {
      "cell_type": "code",
      "metadata": {
        "id": "L0JJzQ49CycR",
        "colab_type": "code",
        "colab": {}
      },
      "source": [
        "#displaying counts of values of 'Family' column in descending order\n",
        "data['Family'].value_counts()"
      ],
      "execution_count": null,
      "outputs": []
    },
    {
      "cell_type": "code",
      "metadata": {
        "id": "50OXAECnF2mG",
        "colab_type": "code",
        "colab": {}
      },
      "source": [
        "#displaying counts of values of 'Education' column in descending order \n",
        "data['Education'].value_counts()"
      ],
      "execution_count": null,
      "outputs": []
    },
    {
      "cell_type": "code",
      "metadata": {
        "id": "rpyG6c2vF5q4",
        "colab_type": "code",
        "colab": {}
      },
      "source": [
        "#displaying counts of values of 'Securities Account' column in descending order\n",
        "data['Securities Account'].value_counts()"
      ],
      "execution_count": null,
      "outputs": []
    },
    {
      "cell_type": "code",
      "metadata": {
        "id": "OwNml900G8Xg",
        "colab_type": "code",
        "colab": {}
      },
      "source": [
        "#displaying counts of values of 'CD Account' column in descending order\n",
        "data['CD Account'].value_counts()"
      ],
      "execution_count": null,
      "outputs": []
    },
    {
      "cell_type": "code",
      "metadata": {
        "id": "ZbNVKFKqHRM4",
        "colab_type": "code",
        "colab": {}
      },
      "source": [
        "#displaying counts of values of 'Online' column in descending order\n",
        "data['Online'].value_counts()"
      ],
      "execution_count": null,
      "outputs": []
    },
    {
      "cell_type": "code",
      "metadata": {
        "id": "A0gjdujZG_HN",
        "colab_type": "code",
        "colab": {}
      },
      "source": [
        "#displaying counts of values of 'Credit Card' column in descending order\n",
        "data['CreditCard'].value_counts()"
      ],
      "execution_count": null,
      "outputs": []
    },
    {
      "cell_type": "markdown",
      "metadata": {
        "id": "xKPniDYDIj3S",
        "colab_type": "text"
      },
      "source": [
        "**3.5 Univariate and Bivariate Analysis**"
      ]
    },
    {
      "cell_type": "markdown",
      "metadata": {
        "id": "jYzl9ZLRItPT",
        "colab_type": "text"
      },
      "source": [
        "**A). Univariate Analysis**\n",
        "\n",
        "\n",
        "\n"
      ]
    },
    {
      "cell_type": "markdown",
      "metadata": {
        "id": "frIx8RkolgoZ",
        "colab_type": "text"
      },
      "source": [
        "We use 'displot' to plot a single variable of any type; in this case, a numerical variable. "
      ]
    },
    {
      "cell_type": "code",
      "metadata": {
        "id": "2mgd9KT5JBjY",
        "colab_type": "code",
        "colab": {}
      },
      "source": [
        "#'Age' column is symmetrically distributed\n",
        "sns.distplot(data['Age'])"
      ],
      "execution_count": null,
      "outputs": []
    },
    {
      "cell_type": "code",
      "metadata": {
        "id": "v2mfe09UerzU",
        "colab_type": "code",
        "colab": {}
      },
      "source": [
        "#'Income' column is positively skew distributed\n",
        "sns.distplot(data['Income'])"
      ],
      "execution_count": null,
      "outputs": []
    },
    {
      "cell_type": "code",
      "metadata": {
        "id": "i50Ia9IYfcGS",
        "colab_type": "code",
        "colab": {}
      },
      "source": [
        "#'CCAvg' column is positively skew distributed\n",
        "sns.distplot(data['CCAvg'])"
      ],
      "execution_count": null,
      "outputs": []
    },
    {
      "cell_type": "code",
      "metadata": {
        "id": "QXGL2wd5kQdI",
        "colab_type": "code",
        "colab": {}
      },
      "source": [
        "#'Mortgage' column is highly skew distributed\n",
        "sns.distplot(data['Mortgage'])"
      ],
      "execution_count": null,
      "outputs": []
    },
    {
      "cell_type": "markdown",
      "metadata": {
        "id": "eblRuYSimfde",
        "colab_type": "text"
      },
      "source": [
        "We use 'countplot' to plot a categorical variable."
      ]
    },
    {
      "cell_type": "code",
      "metadata": {
        "id": "60spHZqyktx6",
        "colab_type": "code",
        "colab": {}
      },
      "source": [
        "#analysis of 'Family' column\n",
        "sns.countplot(data['Family'])"
      ],
      "execution_count": null,
      "outputs": []
    },
    {
      "cell_type": "code",
      "metadata": {
        "id": "ObeKbsqwk6UH",
        "colab_type": "code",
        "colab": {}
      },
      "source": [
        "#analysis of 'Education' column\n",
        "sns.countplot(data['Education'])"
      ],
      "execution_count": null,
      "outputs": []
    },
    {
      "cell_type": "code",
      "metadata": {
        "id": "mgThV3pum-dl",
        "colab_type": "code",
        "colab": {}
      },
      "source": [
        "#analysis of 'Securities Account' column\n",
        "sns.countplot(data['Securities Account'])"
      ],
      "execution_count": null,
      "outputs": []
    },
    {
      "cell_type": "code",
      "metadata": {
        "id": "WpoA7_O0nMir",
        "colab_type": "code",
        "colab": {}
      },
      "source": [
        "#analysis of 'CD Account' column\n",
        "sns.countplot(data['CD Account'])"
      ],
      "execution_count": null,
      "outputs": []
    },
    {
      "cell_type": "code",
      "metadata": {
        "id": "az3W-Ja8nX5C",
        "colab_type": "code",
        "colab": {}
      },
      "source": [
        "#analysis of 'Online' column\n",
        "sns.countplot(data['Online'])"
      ],
      "execution_count": null,
      "outputs": []
    },
    {
      "cell_type": "code",
      "metadata": {
        "id": "ahi1sHqlneJ-",
        "colab_type": "code",
        "colab": {}
      },
      "source": [
        "#analysis of 'CreditCard' column\n",
        "sns.countplot(data['CreditCard'])"
      ],
      "execution_count": null,
      "outputs": []
    },
    {
      "cell_type": "markdown",
      "metadata": {
        "id": "vQVfSnJwn_fa",
        "colab_type": "text"
      },
      "source": [
        "**B). Multivariate Analysis**"
      ]
    },
    {
      "cell_type": "code",
      "metadata": {
        "id": "pJQBAzvloKQe",
        "colab_type": "code",
        "colab": {}
      },
      "source": [
        "#plotting graphs of all columns with respect to each other\n",
        "sns.pairplot(data)"
      ],
      "execution_count": null,
      "outputs": []
    },
    {
      "cell_type": "markdown",
      "metadata": {
        "id": "hxFQtmCVw6vn",
        "colab_type": "text"
      },
      "source": [
        "We use 'boxplot' to plot a graph between any two variables to determine the eligibility of a customer taking a Personal Loan.\n",
        "\n",
        "(Only 4 graphs have been plotted)"
      ]
    },
    {
      "cell_type": "code",
      "metadata": {
        "id": "_AGbJ6WqqaLs",
        "colab_type": "code",
        "colab": {}
      },
      "source": [
        "#Customers with more Income are granted Personal Loan at different Education Levels\n",
        "sns.boxplot(x='Education',y='Income',hue='Personal Loan',data=data,showfliers=False)"
      ],
      "execution_count": null,
      "outputs": []
    },
    {
      "cell_type": "code",
      "metadata": {
        "id": "KUa90PahsOP2",
        "colab_type": "code",
        "colab": {}
      },
      "source": [
        "#Customers with more Income are granted Personal Loan through different Credit Cards\n",
        "sns.boxplot(x='CreditCard',y='Income',hue='Personal Loan',data=data,showfliers=False)"
      ],
      "execution_count": null,
      "outputs": []
    },
    {
      "cell_type": "code",
      "metadata": {
        "id": "LPn1T19QuWkX",
        "colab_type": "code",
        "colab": {}
      },
      "source": [
        "#Customers that often spend through Credit Cards are granted Personal Loan through different Credit Cards\n",
        "sns.boxplot(x='CreditCard',y='CCAvg',hue='Personal Loan',data=data,showfliers=False)"
      ],
      "execution_count": null,
      "outputs": []
    },
    {
      "cell_type": "code",
      "metadata": {
        "id": "vRtn2ccsvZ_1",
        "colab_type": "code",
        "colab": {}
      },
      "source": [
        "#Customers with more Income are granted Personal Loan through any kind of Security Accounts\n",
        "sns.boxplot(x='Securities Account',y='Income',hue='Personal Loan',data=data,showfliers=False)"
      ],
      "execution_count": null,
      "outputs": []
    },
    {
      "cell_type": "markdown",
      "metadata": {
        "id": "AhkxaRSZxYPc",
        "colab_type": "text"
      },
      "source": [
        "We use 'countplot' to plot a categorical value with respect to Personal Loan.\n",
        "\n",
        "(Only 4 graphs have been plotted)"
      ]
    },
    {
      "cell_type": "code",
      "metadata": {
        "id": "3IrgBfzsxq9a",
        "colab_type": "code",
        "colab": {}
      },
      "source": [
        "#Majority of customers having Security Accounts don't have a Personal Loan \n",
        "sns.countplot(x='Securities Account',hue='Personal Loan',data=data)"
      ],
      "execution_count": null,
      "outputs": []
    },
    {
      "cell_type": "code",
      "metadata": {
        "id": "7xOFVPFW1NAk",
        "colab_type": "code",
        "colab": {}
      },
      "source": [
        "#Customers with Higher Education don't have a Personal Loan\n",
        "sns.countplot(x='Education',hue='Personal Loan',data=data)"
      ],
      "execution_count": null,
      "outputs": []
    },
    {
      "cell_type": "code",
      "metadata": {
        "id": "jYQxk2Jn1l5x",
        "colab_type": "code",
        "colab": {}
      },
      "source": [
        "#Majority of customers having CD Account don't have a Personal Loan\n",
        "sns.countplot(x='CD Account',hue='Personal Loan',data=data)"
      ],
      "execution_count": null,
      "outputs": []
    },
    {
      "cell_type": "code",
      "metadata": {
        "id": "ABybdzte2K11",
        "colab_type": "code",
        "colab": {}
      },
      "source": [
        "#Majority of customers having Credit Cards don't have a Personal Loan\n",
        "sns.countplot(x='CreditCard',hue='Personal Loan',data=data)"
      ],
      "execution_count": null,
      "outputs": []
    },
    {
      "cell_type": "markdown",
      "metadata": {
        "id": "eM5tb9JZ5BOD",
        "colab_type": "text"
      },
      "source": [
        "Here we plot the Correlation Matrix (HeatMap), with 'Income' and 'CCAvg' column having higher correlation of 0.65"
      ]
    },
    {
      "cell_type": "code",
      "metadata": {
        "id": "IYoK8FPl2gPR",
        "colab_type": "code",
        "colab": {}
      },
      "source": [
        "#plotting the HeatMap using numerical data\n",
        "fig,ax=plt.subplots(figsize=(15,10))\n",
        "sns.heatmap(data.corr(),cmap='RdPu',annot=True);"
      ],
      "execution_count": null,
      "outputs": []
    },
    {
      "cell_type": "markdown",
      "metadata": {
        "id": "3pbkD2jyIU_5",
        "colab_type": "text"
      },
      "source": [
        "### **STEP 4**"
      ]
    },
    {
      "cell_type": "markdown",
      "metadata": {
        "id": "vkqC4arFe09F",
        "colab_type": "text"
      },
      "source": [
        "Before doing any transformations, we split the entire dataset into two parts, namely data_X and data_Y"
      ]
    },
    {
      "cell_type": "code",
      "metadata": {
        "id": "y2Cdm-8xzNZv",
        "colab_type": "code",
        "colab": {}
      },
      "source": [
        "#creating attribute (X) and target (y) variables\n",
        "data_X=data.loc[:,data.columns!='Personal Loan']\n",
        "data_y=data['Personal Loan']"
      ],
      "execution_count": null,
      "outputs": []
    },
    {
      "cell_type": "code",
      "metadata": {
        "id": "XPWGO0pJHVUw",
        "colab_type": "code",
        "colab": {}
      },
      "source": [
        "#displaying rows and columns\n",
        "data_X.shape, data_y.shape"
      ],
      "execution_count": null,
      "outputs": []
    },
    {
      "cell_type": "markdown",
      "metadata": {
        "id": "dFZLEnESOVi8",
        "colab_type": "text"
      },
      "source": [
        "**4. Transformation for Feature Variables**"
      ]
    },
    {
      "cell_type": "markdown",
      "metadata": {
        "id": "XOJcJ015JDWj",
        "colab_type": "text"
      },
      "source": [
        "In Step 3, we saw that 'Income' and 'CCAvg' columns were not symmetrically distributed. Hence we perform Power Transformations to make them symmetrical to the Standard Bell Curve."
      ]
    },
    {
      "cell_type": "code",
      "metadata": {
        "id": "ZAISAbE2KciX",
        "colab_type": "code",
        "colab": {}
      },
      "source": [
        "#applying box-cox transformation to 'Income' column\n",
        "p=PowerTransformer(method='box-cox', standardize=False)\n",
        "p.fit(data_X['Income'].values.reshape(-1,1))\n",
        "num=p.transform(data_X['Income'].values.reshape(-1,1))"
      ],
      "execution_count": null,
      "outputs": []
    },
    {
      "cell_type": "code",
      "metadata": {
        "id": "XjT5si5dA8zz",
        "colab_type": "code",
        "colab": {}
      },
      "source": [
        "#'Income' column is normally distributed\n",
        "sns.distplot(num)"
      ],
      "execution_count": null,
      "outputs": []
    },
    {
      "cell_type": "code",
      "metadata": {
        "id": "a5RaimZpImte",
        "colab_type": "code",
        "colab": {}
      },
      "source": [
        "#applying yeo-johnson transformation to 'CCAvg' column\n",
        "p=PowerTransformer(method='yeo-johnson', standardize=False)\n",
        "p.fit(data_X['CCAvg'].values.reshape(-1,1))\n",
        "num=p.transform(data_X['CCAvg'].values.reshape(-1,1))"
      ],
      "execution_count": null,
      "outputs": []
    },
    {
      "cell_type": "code",
      "metadata": {
        "id": "Fa0P8EZ8BKK6",
        "colab_type": "code",
        "colab": {}
      },
      "source": [
        "#'CCAvg' column is normally distributed\n",
        "sns.distplot(num)"
      ],
      "execution_count": null,
      "outputs": []
    },
    {
      "cell_type": "markdown",
      "metadata": {
        "id": "oi-_U0A2OtNL",
        "colab_type": "text"
      },
      "source": [
        "In Step 3, we also noticed that the graph for 'Mortgage' column was highly skewed wherein most of the values are almost zero and there is discontinuity present between the values. Hence we avoid Power Transformtion and use Binning Method to sort the values in a number of bins."
      ]
    },
    {
      "cell_type": "code",
      "metadata": {
        "id": "WAOjdqi3QwXk",
        "colab_type": "code",
        "colab": {}
      },
      "source": [
        "#label encoding applied to 'Mortgage' column\n",
        "data_X['Mortgage_Int']=pd.cut(data_X['Mortgage'],bins=[0,100,200,300,400,500,600,700],labels=[0,1,2,3,4,5,6],include_lowest=True)\n",
        "data_X.drop('Mortgage',axis=1,inplace=True)"
      ],
      "execution_count": null,
      "outputs": []
    },
    {
      "cell_type": "code",
      "metadata": {
        "id": "GEG7juGGUbhN",
        "colab_type": "code",
        "colab": {}
      },
      "source": [
        "#displaying top 10 columns of the data\n",
        "data.head(5)"
      ],
      "execution_count": null,
      "outputs": []
    },
    {
      "cell_type": "code",
      "metadata": {
        "id": "FSDfSSkVA6zj",
        "colab_type": "code",
        "colab": {}
      },
      "source": [
        "#'Mortgage' column is normally distributed \n",
        "sns.distplot(data_X.Mortgage_Int)"
      ],
      "execution_count": null,
      "outputs": []
    },
    {
      "cell_type": "markdown",
      "metadata": {
        "id": "e6Qllc1n9JZH",
        "colab_type": "text"
      },
      "source": [
        "### **STEP 5**"
      ]
    },
    {
      "cell_type": "markdown",
      "metadata": {
        "id": "ODNrAcIlrp6t",
        "colab_type": "text"
      },
      "source": [
        "**5.1 Normalizing the Data**"
      ]
    },
    {
      "cell_type": "markdown",
      "metadata": {
        "id": "oSROlBgg8bzX",
        "colab_type": "text"
      },
      "source": [
        "Here, we Normalize data_X to remove any unwanted effects in the plot in order to make it look like an ordinary distribution."
      ]
    },
    {
      "cell_type": "code",
      "metadata": {
        "id": "4pUO6CTwxUXo",
        "colab_type": "code",
        "colab": {}
      },
      "source": [
        "#Normalizing the data using MinMaxScalar Method\n",
        "data_X_scaler_minmax=preprocessing.MinMaxScaler(feature_range=(0,1))\n",
        "data_X=data_X_scaler_minmax.fit_transform(data_X)\n",
        "data_X"
      ],
      "execution_count": null,
      "outputs": []
    },
    {
      "cell_type": "code",
      "metadata": {
        "id": "FRFduV3Y8QRt",
        "colab_type": "code",
        "colab": {}
      },
      "source": [
        "#displaying number of rows and columns\n",
        "data_X.shape"
      ],
      "execution_count": null,
      "outputs": []
    },
    {
      "cell_type": "markdown",
      "metadata": {
        "id": "ILJNyGFf7fyz",
        "colab_type": "text"
      },
      "source": [
        "**5.2 Splitting the Data using Stratified Sampling**"
      ]
    },
    {
      "cell_type": "markdown",
      "metadata": {
        "id": "wUReyQae7k2V",
        "colab_type": "text"
      },
      "source": [
        "We use Stratified Sampling on data_Y to ensure equal distribution of samples of 'Personal Loan' column."
      ]
    },
    {
      "cell_type": "code",
      "metadata": {
        "id": "nntrJKIb7qA3",
        "colab_type": "code",
        "colab": {}
      },
      "source": [
        "#splitting the data into training and testing data\n",
        "X_train,X_test,y_train,y_test=train_test_split(data_X, data_y, test_size=0.3, stratify=data_y, random_state=0)"
      ],
      "execution_count": null,
      "outputs": []
    },
    {
      "cell_type": "code",
      "metadata": {
        "id": "FscquMxU9USO",
        "colab_type": "code",
        "colab": {}
      },
      "source": [
        "#displaying training and testing data\n",
        "X_train,X_test,y_train,y_test"
      ],
      "execution_count": null,
      "outputs": []
    },
    {
      "cell_type": "code",
      "metadata": {
        "id": "q4_ZlKR27uar",
        "colab_type": "code",
        "colab": {}
      },
      "source": [
        "#displaying number of rows and columns\n",
        "X_train.shape, X_test.shape, y_train.shape, y_test.shape"
      ],
      "execution_count": null,
      "outputs": []
    },
    {
      "cell_type": "markdown",
      "metadata": {
        "id": "dTkrutNKU-DV",
        "colab_type": "text"
      },
      "source": [
        "### **STEP 6**"
      ]
    },
    {
      "cell_type": "markdown",
      "metadata": {
        "id": "hT-CquSuVB-F",
        "colab_type": "text"
      },
      "source": [
        "**6. Logistic Regression Model**"
      ]
    },
    {
      "cell_type": "markdown",
      "metadata": {
        "id": "6DTiLhHkZHyE",
        "colab_type": "text"
      },
      "source": [
        "Using Logistic Regression Model, we determine the liability of customer buying Personal Loan using Training and Testing data."
      ]
    },
    {
      "cell_type": "code",
      "metadata": {
        "id": "_pyJ4Nl5YOKJ",
        "colab_type": "code",
        "colab": {}
      },
      "source": [
        "#fitting Logistic Regression model with training data\n",
        "Logic_Reg=LogisticRegression()\n",
        "Logic_Reg.fit(X_train,y_train)"
      ],
      "execution_count": null,
      "outputs": []
    },
    {
      "cell_type": "code",
      "metadata": {
        "id": "uNn7Ouqbr-Ca",
        "colab_type": "code",
        "colab": {}
      },
      "source": [
        "#making predictions on Testing Data\n",
        "pred=Logic_Reg.predict(X_test)\n",
        "pred"
      ],
      "execution_count": null,
      "outputs": []
    },
    {
      "cell_type": "code",
      "metadata": {
        "id": "IYKzMRTne9nd",
        "colab_type": "code",
        "colab": {}
      },
      "source": [
        "#using Score function to predict the accuracy of Training and Testing Data\n",
        "train_score=Logic_Reg.score(X_train, y_train)\n",
        "print('Training Data Accuracy:', train_score*100)\n",
        "test_score=Logic_Reg.score(X_test, y_test)\n",
        "print('Testing Data Accuracy:', test_score*100)"
      ],
      "execution_count": null,
      "outputs": []
    },
    {
      "cell_type": "markdown",
      "metadata": {
        "id": "_ye0KlUz4qcU",
        "colab_type": "text"
      },
      "source": [
        "### **STEP 7**"
      ]
    },
    {
      "cell_type": "markdown",
      "metadata": {
        "id": "6IWrhi8i4u_9",
        "colab_type": "text"
      },
      "source": [
        "**7. Metrics to Evaluate Logistic Regression Model's Performance**"
      ]
    },
    {
      "cell_type": "markdown",
      "metadata": {
        "id": "Kk1fbwVxZEBs",
        "colab_type": "text"
      },
      "source": [
        "In order to check the model's performance, we simply use three different methods i.e. Confusion Matrix, ROC Curve and Precision-Recall Curve"
      ]
    },
    {
      "cell_type": "markdown",
      "metadata": {
        "id": "xJZ4xYjZ5TNB",
        "colab_type": "text"
      },
      "source": [
        "**7.1 Confusion Matrix**"
      ]
    },
    {
      "cell_type": "markdown",
      "metadata": {
        "id": "Iht73xWIZ8x1",
        "colab_type": "text"
      },
      "source": [
        "First, we make predictions on how many customers would buy a Personal Loan and accordingly plot the Confusion Matrix."
      ]
    },
    {
      "cell_type": "code",
      "metadata": {
        "id": "_zHz1n33XWl5",
        "colab_type": "code",
        "colab": {}
      },
      "source": [
        "#creating two different classes\n",
        "#class_names = 0 implies customer rejecting Personal Loan\n",
        "#class_names = 1 implies customer buying Personal Loan\n",
        "class_names=[0,1]"
      ],
      "execution_count": null,
      "outputs": []
    },
    {
      "cell_type": "code",
      "metadata": {
        "id": "kaiAjNBV5v19",
        "colab_type": "code",
        "colab": {}
      },
      "source": [
        "#making correct and incorrect predictions\n",
        "confusion_matrix=confusion_matrix(y_test, pred)\n",
        "confusion_matrix"
      ],
      "execution_count": null,
      "outputs": []
    },
    {
      "cell_type": "code",
      "metadata": {
        "id": "6ZMwehL4ZdIU",
        "colab_type": "code",
        "colab": {}
      },
      "source": [
        "#plotting confusion matrix for Logistic Regression\n",
        "fig,ax=plt.subplots()\n",
        "plt.xticks(np.arange(len(class_names)),class_names)\n",
        "plt.yticks(np.arange(len(class_names)),class_names)\n",
        "sns.heatmap(pd.DataFrame(confusion_matrix),annot=True,cmap=\"YlOrRd\",fmt='g')\n",
        "plt.tight_layout()\n",
        "plt.title('Confusion matrix', y=1.1)\n",
        "plt.ylabel('Actual Labels')\n",
        "plt.xlabel('Predicted Labels')\n",
        "plt.legend()\n",
        "plt.show()"
      ],
      "execution_count": null,
      "outputs": []
    },
    {
      "cell_type": "markdown",
      "metadata": {
        "id": "UNL_aUGGpfxo",
        "colab_type": "text"
      },
      "source": [
        "**7.2 ROC Curve**"
      ]
    },
    {
      "cell_type": "markdown",
      "metadata": {
        "id": "ygaYcQ-sscnZ",
        "colab_type": "text"
      },
      "source": [
        "First, we calculate the AUC Score and then plot the ROC Curve."
      ]
    },
    {
      "cell_type": "code",
      "metadata": {
        "id": "X7IbzGBzdbtc",
        "colab_type": "code",
        "colab": {}
      },
      "source": [
        "#calculating AUC score\n",
        "probs = Logic_Reg.predict_proba(X_test)[::,1]\n",
        "fpr,tpr,threshold = metrics.roc_curve(y_test,probs)\n",
        "auc = metrics.roc_auc_score(y_test,probs)\n",
        "print('AUC Score:',auc*100)"
      ],
      "execution_count": null,
      "outputs": []
    },
    {
      "cell_type": "code",
      "metadata": {
        "id": "yl5G45iKpbhn",
        "colab_type": "code",
        "colab": {}
      },
      "source": [
        "#plotting ROC Curve for Logistic Regression\n",
        "plt.plot(fpr,tpr)\n",
        "plt.title('ROC Curve')\n",
        "plt.xlabel('False Positive Rate')\n",
        "plt.ylabel('True Positive Rate')\n",
        "plt.legend()\n",
        "plt.show()"
      ],
      "execution_count": null,
      "outputs": []
    },
    {
      "cell_type": "markdown",
      "metadata": {
        "id": "qDk3x4v2wGi4",
        "colab_type": "text"
      },
      "source": [
        "**7.3 Precision-Recall Curve**"
      ]
    },
    {
      "cell_type": "code",
      "metadata": {
        "id": "ea-IfDtxyEu-",
        "colab_type": "code",
        "colab": {}
      },
      "source": [
        "#calculating Precision-Recall score\n",
        "prec_recall = average_precision_score(y_test,probs)\n",
        "print('Precision-Recall Score:',prec_recall*100)"
      ],
      "execution_count": null,
      "outputs": []
    },
    {
      "cell_type": "code",
      "metadata": {
        "id": "wHthmFk6_r4p",
        "colab_type": "code",
        "colab": {}
      },
      "source": [
        "#plotting Precision-Recall Curve\n",
        "precision,recall,_= precision_recall_curve(y_test,probs)\n",
        "plt.step(recall, precision,where='post')\n",
        "plt.title('Precision-Recall Curve')\n",
        "plt.xlabel('Recall')\n",
        "plt.ylabel('Precision')\n",
        "plt.legend()\n",
        "plt.show()"
      ],
      "execution_count": null,
      "outputs": []
    },
    {
      "cell_type": "markdown",
      "metadata": {
        "id": "J0lZFcQsJtdh",
        "colab_type": "text"
      },
      "source": [
        "We check the overall accuracy of Logistic Regression model."
      ]
    },
    {
      "cell_type": "code",
      "metadata": {
        "id": "gvN4okyHYf0V",
        "colab_type": "code",
        "colab": {}
      },
      "source": [
        "#displaying overall accuracy of Logistic Regression Model\n",
        "accuracy = metrics.accuracy_score(y_test,pred)\n",
        "A1=accuracy\n",
        "print(\"Accuracy:\",accuracy*100)"
      ],
      "execution_count": null,
      "outputs": []
    },
    {
      "cell_type": "markdown",
      "metadata": {
        "id": "CwVtpzoKXInS",
        "colab_type": "text"
      },
      "source": [
        "### **STEP 8**"
      ]
    },
    {
      "cell_type": "markdown",
      "metadata": {
        "id": "VaYhtwPKXNQ8",
        "colab_type": "text"
      },
      "source": [
        "**8. Classification Algorithms**"
      ]
    },
    {
      "cell_type": "markdown",
      "metadata": {
        "id": "lLYXBuCS9p3z",
        "colab_type": "text"
      },
      "source": [
        "We check the Accuracy of the dataset using different classifiers depending on which we would draw conclusion as to which would be the Best Classifier. "
      ]
    },
    {
      "cell_type": "markdown",
      "metadata": {
        "id": "CIMLA32gf8SH",
        "colab_type": "text"
      },
      "source": [
        "**8.1 Decision Tree Classifier**"
      ]
    },
    {
      "cell_type": "code",
      "metadata": {
        "id": "qmC2A-M7f5wK",
        "colab_type": "code",
        "colab": {}
      },
      "source": [
        "#fitting Decision Tree Classifier with training data\n",
        "Dec_Tree=DecisionTreeClassifier(criterion='entropy',max_depth=5,min_samples_leaf=2,random_state=0)\n",
        "Dec_Tree.fit(X_train,y_train)"
      ],
      "execution_count": null,
      "outputs": []
    },
    {
      "cell_type": "code",
      "metadata": {
        "id": "zRXBrB7khMaE",
        "colab_type": "code",
        "colab": {}
      },
      "source": [
        "#making predictions on Testing Data\n",
        "pred=Dec_Tree.predict(X_test)\n",
        "pred"
      ],
      "execution_count": null,
      "outputs": []
    },
    {
      "cell_type": "code",
      "metadata": {
        "id": "ke86V9OgiCb6",
        "colab_type": "code",
        "colab": {}
      },
      "source": [
        "#using Score function to predict the accuracy of Training and Testing Data\n",
        "train_score=Dec_Tree.score(X_train, y_train)\n",
        "print('Training Data Accuracy:', train_score*100)\n",
        "test_score=Dec_Tree.score(X_test, y_test)\n",
        "print('Testing Data Accuracy:', test_score*100)"
      ],
      "execution_count": null,
      "outputs": []
    },
    {
      "cell_type": "code",
      "metadata": {
        "id": "5XCzOokE3bJu",
        "colab_type": "code",
        "colab": {}
      },
      "source": [
        "#making correct and incorrect predictions\n",
        "class_names=[0,1]\n",
        "confusion_matrix=confusion_matrix(y_test, pred)\n",
        "confusion_matrix"
      ],
      "execution_count": null,
      "outputs": []
    },
    {
      "cell_type": "code",
      "metadata": {
        "id": "h-C91FZVjvZ9",
        "colab_type": "code",
        "colab": {}
      },
      "source": [
        "#plotting confusion matrix for Decision Tree \n",
        "fig,ax=plt.subplots()\n",
        "plt.xticks(np.arange(len(class_names)),class_names)\n",
        "plt.yticks(np.arange(len(class_names)),class_names)\n",
        "sns.heatmap(pd.DataFrame(confusion_matrix),annot=True,cmap=\"Purples\",fmt='g')\n",
        "plt.tight_layout()\n",
        "plt.title('Confusion matrix', y=1.1)\n",
        "plt.ylabel('Actual Labels')\n",
        "plt.xlabel('Predicted Labels')\n",
        "plt.legend()\n",
        "plt.show()"
      ],
      "execution_count": null,
      "outputs": []
    },
    {
      "cell_type": "code",
      "metadata": {
        "id": "9BsJtfoyjwGO",
        "colab_type": "code",
        "colab": {}
      },
      "source": [
        "#calculating AUC score\n",
        "probs = Dec_Tree.predict_proba(X_test)[::,1]\n",
        "fpr,tpr,threshold = metrics.roc_curve(y_test,probs)\n",
        "auc = metrics.roc_auc_score(y_test,probs)\n",
        "print('AUC Score:',auc*100)"
      ],
      "execution_count": null,
      "outputs": []
    },
    {
      "cell_type": "code",
      "metadata": {
        "id": "U7qmZI5aju9l",
        "colab_type": "code",
        "colab": {}
      },
      "source": [
        "#plotting ROC Curve for Decision Tree\n",
        "plt.plot(fpr,tpr)\n",
        "plt.title('ROC Curve')\n",
        "plt.xlabel('False Positive Rate')\n",
        "plt.ylabel('True Positive Rate')\n",
        "plt.legend()\n",
        "plt.show()"
      ],
      "execution_count": null,
      "outputs": []
    },
    {
      "cell_type": "code",
      "metadata": {
        "id": "TzUY7xq1ikab",
        "colab_type": "code",
        "colab": {}
      },
      "source": [
        "#calculating Precision-Recall score\n",
        "prec_recall = average_precision_score(y_test,probs)\n",
        "print('Precision-Recall Score:',prec_recall*100)"
      ],
      "execution_count": null,
      "outputs": []
    },
    {
      "cell_type": "code",
      "metadata": {
        "id": "auQjeaZJi2wU",
        "colab_type": "code",
        "colab": {}
      },
      "source": [
        "#plotting Precision-Recall Curve\n",
        "precision,recall,_= precision_recall_curve(y_test,probs)\n",
        "plt.step(recall, precision,where='post')\n",
        "plt.title('Precision-Recall Curve')\n",
        "plt.xlabel('Recall')\n",
        "plt.ylabel('Precision')\n",
        "plt.legend()\n",
        "plt.show()"
      ],
      "execution_count": null,
      "outputs": []
    },
    {
      "cell_type": "code",
      "metadata": {
        "id": "-Vg-cMuv3y2X",
        "colab_type": "code",
        "colab": {}
      },
      "source": [
        "#displaying overall accuracy of Decision Tree Classifier\n",
        "accuracy = metrics.accuracy_score(y_test,pred)\n",
        "A2=accuracy\n",
        "print(\"Accuracy:\",accuracy*100)"
      ],
      "execution_count": null,
      "outputs": []
    },
    {
      "cell_type": "markdown",
      "metadata": {
        "id": "WRWb0lkh-0uI",
        "colab_type": "text"
      },
      "source": [
        "**8.2 Random Forest Classifier**"
      ]
    },
    {
      "cell_type": "code",
      "metadata": {
        "id": "lc-MPHDX-5XY",
        "colab_type": "code",
        "colab": {}
      },
      "source": [
        "#fitting Random Forest Classifier with training data\n",
        "Ran_For=RandomForestClassifier(n_estimators=100,max_features=2,max_depth=5,min_samples_leaf=2,random_state=0)\n",
        "Ran_For.fit(X_train,y_train)"
      ],
      "execution_count": null,
      "outputs": []
    },
    {
      "cell_type": "code",
      "metadata": {
        "id": "mP3NoNP2BlIY",
        "colab_type": "code",
        "colab": {}
      },
      "source": [
        "#making predictions on Testing Data\n",
        "pred=Ran_For.predict(X_test)\n",
        "pred"
      ],
      "execution_count": null,
      "outputs": []
    },
    {
      "cell_type": "code",
      "metadata": {
        "id": "u1CJkXjnBr0s",
        "colab_type": "code",
        "colab": {}
      },
      "source": [
        "#using Score function to predict the accuracy of Training and Testing Data\n",
        "train_score=Ran_For.score(X_train, y_train)\n",
        "print('Training Data Accuracy:', train_score*100)\n",
        "test_score=Ran_For.score(X_test, y_test)\n",
        "print('Testing Data Accuracy:', test_score*100)"
      ],
      "execution_count": null,
      "outputs": []
    },
    {
      "cell_type": "code",
      "metadata": {
        "id": "ctdbuZJcF7s3",
        "colab_type": "code",
        "colab": {}
      },
      "source": [
        "#making correct and incorrect predictions\n",
        "class_names=[0,1]\n",
        "confusion_matrix=confusion_matrix(y_test, pred)\n",
        "confusion_matrix"
      ],
      "execution_count": null,
      "outputs": []
    },
    {
      "cell_type": "code",
      "metadata": {
        "id": "q-zqvw2ZGAQb",
        "colab_type": "code",
        "colab": {}
      },
      "source": [
        "#plotting confusion matrix for Random Forest Classifier\n",
        "fig,ax=plt.subplots()\n",
        "plt.xticks(np.arange(len(class_names)),class_names)\n",
        "plt.yticks(np.arange(len(class_names)),class_names)\n",
        "sns.heatmap(pd.DataFrame(confusion_matrix),annot=True,cmap=\"Greens\",fmt='g')\n",
        "plt.tight_layout()\n",
        "plt.title('Confusion matrix', y=1.1)\n",
        "plt.ylabel('Actual Labels')\n",
        "plt.xlabel('Predicted Labels')\n",
        "plt.legend()\n",
        "plt.show()"
      ],
      "execution_count": null,
      "outputs": []
    },
    {
      "cell_type": "code",
      "metadata": {
        "id": "V28Kt2jSGD_v",
        "colab_type": "code",
        "colab": {}
      },
      "source": [
        "#calculating AUC score\n",
        "probs = Ran_For.predict_proba(X_test)[::,1]\n",
        "fpr,tpr,threshold = metrics.roc_curve(y_test,probs)\n",
        "auc = metrics.roc_auc_score(y_test,probs)\n",
        "print('AUC Score:',auc*100)"
      ],
      "execution_count": null,
      "outputs": []
    },
    {
      "cell_type": "code",
      "metadata": {
        "id": "cUMCly6zGHx6",
        "colab_type": "code",
        "colab": {}
      },
      "source": [
        "#plotting ROC Curve for Random Forest Classifier\n",
        "plt.plot(fpr,tpr)\n",
        "plt.title('ROC Curve')\n",
        "plt.xlabel('False Positive Rate')\n",
        "plt.ylabel('True Positive Rate')\n",
        "plt.legend()\n",
        "plt.show()"
      ],
      "execution_count": null,
      "outputs": []
    },
    {
      "cell_type": "code",
      "metadata": {
        "id": "X8Zyg3C1GIpp",
        "colab_type": "code",
        "colab": {}
      },
      "source": [
        "#calculating Precision-Recall score\n",
        "prec_recall = average_precision_score(y_test,probs)\n",
        "print('Precision-Recall Score:',prec_recall*100)"
      ],
      "execution_count": null,
      "outputs": []
    },
    {
      "cell_type": "code",
      "metadata": {
        "id": "5GlguSM6GNMB",
        "colab_type": "code",
        "colab": {}
      },
      "source": [
        "#plotting Precision-Recall Curve\n",
        "precision,recall,_= precision_recall_curve(y_test,probs)\n",
        "plt.step(recall, precision,where='post')\n",
        "plt.title('Precision-Recall Curve')\n",
        "plt.xlabel('Recall')\n",
        "plt.ylabel('Precision')\n",
        "plt.legend()\n",
        "plt.show()"
      ],
      "execution_count": null,
      "outputs": []
    },
    {
      "cell_type": "code",
      "metadata": {
        "id": "3nSd_xuRGUK7",
        "colab_type": "code",
        "colab": {}
      },
      "source": [
        "#displaying overall accuracy of Random Forest Classifier\n",
        "accuracy = metrics.accuracy_score(y_test,pred)\n",
        "A3=accuracy\n",
        "print(\"Accuracy:\",accuracy*100)"
      ],
      "execution_count": null,
      "outputs": []
    },
    {
      "cell_type": "markdown",
      "metadata": {
        "id": "r8HfnJ49a3l0",
        "colab_type": "text"
      },
      "source": [
        "**8.3 K-Nearest Neighbour Classifier**"
      ]
    },
    {
      "cell_type": "code",
      "metadata": {
        "id": "eDRYlFlJhm0q",
        "colab_type": "code",
        "colab": {}
      },
      "source": [
        "#fitting K-Nearest Neighbour Classifier with training data\n",
        "K_N = KNeighborsClassifier(n_neighbors=5,weights ='uniform',metric='euclidean')\n",
        "K_N.fit(X_train,y_train)"
      ],
      "execution_count": null,
      "outputs": []
    },
    {
      "cell_type": "code",
      "metadata": {
        "id": "yVwZUr4jisrV",
        "colab_type": "code",
        "colab": {}
      },
      "source": [
        "#making predictions on Testing Data\n",
        "pred=K_N.predict(X_test)\n",
        "pred"
      ],
      "execution_count": null,
      "outputs": []
    },
    {
      "cell_type": "code",
      "metadata": {
        "id": "rgeeoyesi49p",
        "colab_type": "code",
        "colab": {}
      },
      "source": [
        "#using Score function to predict the accuracy of Training and Testing Data\n",
        "train_score=K_N.score(X_train, y_train)\n",
        "print('Training Data Accuracy:', train_score*100)\n",
        "test_score=K_N.score(X_test, y_test)\n",
        "print('Testing Data Accuracy:', test_score*100)"
      ],
      "execution_count": null,
      "outputs": []
    },
    {
      "cell_type": "code",
      "metadata": {
        "id": "-kECOVe8jVOM",
        "colab_type": "code",
        "colab": {}
      },
      "source": [
        "#making correct and incorrect predictions\n",
        "class_names=[0,1]\n",
        "confusion_matrix=confusion_matrix(y_test, pred)\n",
        "confusion_matrix"
      ],
      "execution_count": null,
      "outputs": []
    },
    {
      "cell_type": "code",
      "metadata": {
        "id": "zZ67zb9tjhux",
        "colab_type": "code",
        "colab": {}
      },
      "source": [
        "#plotting confusion matrix for K-Nearest Neighbour Classifier\n",
        "fig,ax=plt.subplots()\n",
        "plt.xticks(np.arange(len(class_names)),class_names)\n",
        "plt.yticks(np.arange(len(class_names)),class_names)\n",
        "sns.heatmap(pd.DataFrame(confusion_matrix),annot=True,cmap=\"Reds\",fmt='g')\n",
        "plt.tight_layout()\n",
        "plt.title('Confusion matrix', y=1.1)\n",
        "plt.ylabel('Actual Labels')\n",
        "plt.xlabel('Predicted Labels')\n",
        "plt.legend()\n",
        "plt.show()"
      ],
      "execution_count": null,
      "outputs": []
    },
    {
      "cell_type": "code",
      "metadata": {
        "id": "qq91JBQ4jpSQ",
        "colab_type": "code",
        "colab": {}
      },
      "source": [
        "#calculating AUC score\n",
        "probs = K_N.predict_proba(X_test)[::,1]\n",
        "fpr,tpr,threshold = metrics.roc_curve(y_test,probs)\n",
        "auc = metrics.roc_auc_score(y_test,probs)\n",
        "print('AUC Score:',auc*100)"
      ],
      "execution_count": null,
      "outputs": []
    },
    {
      "cell_type": "code",
      "metadata": {
        "id": "1E61ibrmkD4h",
        "colab_type": "code",
        "colab": {}
      },
      "source": [
        "#plotting ROC Curve for K-Nearest Neighbour Classifier\n",
        "plt.plot(fpr,tpr)\n",
        "plt.title('ROC Curve')\n",
        "plt.xlabel('False Positive Rate')\n",
        "plt.ylabel('True Positive Rate')\n",
        "plt.legend()\n",
        "plt.show()"
      ],
      "execution_count": null,
      "outputs": []
    },
    {
      "cell_type": "code",
      "metadata": {
        "id": "hOmEAZozkGoq",
        "colab_type": "code",
        "colab": {}
      },
      "source": [
        "#calculating Precision-Recall score\n",
        "prec_recall = average_precision_score(y_test,probs)\n",
        "print('Precision-Recall Score:',prec_recall*100)"
      ],
      "execution_count": null,
      "outputs": []
    },
    {
      "cell_type": "code",
      "metadata": {
        "id": "WcVbnjlskTBk",
        "colab_type": "code",
        "colab": {}
      },
      "source": [
        "#plotting Precision-Recall Curve\n",
        "precision,recall,_= precision_recall_curve(y_test,probs)\n",
        "plt.step(recall, precision,where='post')\n",
        "plt.title('Precision-Recall Curve')\n",
        "plt.xlabel('Recall')\n",
        "plt.ylabel('Precision')\n",
        "plt.legend()\n",
        "plt.show()"
      ],
      "execution_count": null,
      "outputs": []
    },
    {
      "cell_type": "code",
      "metadata": {
        "id": "a-212ClykfpF",
        "colab_type": "code",
        "colab": {}
      },
      "source": [
        "#displaying overall accuracy of K-Nearest Neighbour Classifier\n",
        "accuracy = metrics.accuracy_score(y_test,pred)\n",
        "A4=accuracy\n",
        "print(\"Accuracy:\",accuracy*100)"
      ],
      "execution_count": null,
      "outputs": []
    },
    {
      "cell_type": "markdown",
      "metadata": {
        "id": "zFX5i9axvWwV",
        "colab_type": "text"
      },
      "source": [
        "### **STEP 9**"
      ]
    },
    {
      "cell_type": "markdown",
      "metadata": {
        "id": "PWIeOuJAveyF",
        "colab_type": "text"
      },
      "source": [
        "**9. Business Understanding Of Model**"
      ]
    },
    {
      "cell_type": "code",
      "metadata": {
        "id": "UsPSVmY95A2t",
        "colab_type": "code",
        "colab": {}
      },
      "source": [
        "#accuracies of all models\n",
        "print('Accuracy of Logistic Regression:',A1*100)\n",
        "print('Accuracy of Decision Trees:',A2*100)\n",
        "print('Accuracy of Random Forest:',A3*100)\n",
        "print('Accuracy of K-Nearest Neighbour:',A4*100)"
      ],
      "execution_count": null,
      "outputs": []
    },
    {
      "cell_type": "markdown",
      "metadata": {
        "id": "-jJbMsNOw0cm",
        "colab_type": "text"
      },
      "source": [
        "In this project, the dataset provided was initially imported, preprocessed, normalized, splitted into training and testing data; from which the training data was trained on the Logistic Regression Model and the accuracy for certain classifiers were calculated.\n",
        "\n",
        "We used three different classifiers, namely Decision Tree Classifier, Random Forest Classifier and K-Nearest Neighbour Classifier.\n",
        "\n",
        "The main motive of the project was to convert the liability based customers to personal loan customers. EDA (Exploratory Data Analysis) provided better analysis on outliers, distribution of variables etc. which can help the bank gain an edge to convert liable customers to loan customers \n",
        "\n",
        "From the above classifiers, the accuracy of Decision Tree Classifier outstanded the rest of the classifiers and hence it's algorithm can be used to identify the potential customers who would purchase a loan. Hence, Decision Tree can be used as the final model as a solution for this problem. \n"
      ]
    }
  ]
}